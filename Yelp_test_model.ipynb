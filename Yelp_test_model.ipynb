{
 "cells": [
  {
   "cell_type": "markdown",
   "metadata": {},
   "source": [
    "# Fake Review Identification with Unsupervised Learning"
   ]
  },
  {
   "cell_type": "markdown",
   "metadata": {},
   "source": [
    "This Notebook is for testing our approach with Yelp dataset which has labeled data. We are identifying fake reviews using unsupervised learning and then verifying the labels with yelp labels to check accuracy"
   ]
  },
  {
   "cell_type": "code",
   "execution_count": 2,
   "metadata": {},
   "outputs": [],
   "source": [
    "import pandas as pd\n",
    "import numpy as np\n",
    "from nltk import ngrams\n",
    "from nltk.tokenize import word_tokenize\n",
    "import warnings\n",
    "import nltk\n",
    "warnings.filterwarnings('ignore')\n",
    "import xlrd\n",
    "import sys\n",
    "#!{sys.executable} -m pip install textstat\n",
    "import textstat\n",
    "data = pd.read_excel('D:/capstone/Scrapped_YELP_LABELLED_DATA.xlsx')"
   ]
  },
  {
   "cell_type": "code",
   "execution_count": 39,
   "metadata": {},
   "outputs": [
    {
     "data": {
      "text/html": [
       "<div>\n",
       "<style scoped>\n",
       "    .dataframe tbody tr th:only-of-type {\n",
       "        vertical-align: middle;\n",
       "    }\n",
       "\n",
       "    .dataframe tbody tr th {\n",
       "        vertical-align: top;\n",
       "    }\n",
       "\n",
       "    .dataframe thead th {\n",
       "        text-align: right;\n",
       "    }\n",
       "</style>\n",
       "<table border=\"1\" class=\"dataframe\">\n",
       "  <thead>\n",
       "    <tr style=\"text-align: right;\">\n",
       "      <th></th>\n",
       "      <th>ReviewId_x</th>\n",
       "      <th>SentimentText</th>\n",
       "      <th>Quantitative_Score</th>\n",
       "      <th>ReviewDate</th>\n",
       "      <th>Label</th>\n",
       "      <th>PropertyID</th>\n",
       "      <th>SiteId</th>\n",
       "      <th>ReviewDate_Original(MM/DD/YYYY)</th>\n",
       "      <th>LanguageId</th>\n",
       "    </tr>\n",
       "  </thead>\n",
       "  <tbody>\n",
       "    <tr>\n",
       "      <th>0</th>\n",
       "      <td>1</td>\n",
       "      <td>Tuba is super laid back, charming and warm. Or...</td>\n",
       "      <td>5</td>\n",
       "      <td>20/11/2018</td>\n",
       "      <td>Genuine</td>\n",
       "      <td>1</td>\n",
       "      <td>2</td>\n",
       "      <td>11/20/2018</td>\n",
       "      <td>1</td>\n",
       "    </tr>\n",
       "    <tr>\n",
       "      <th>1</th>\n",
       "      <td>2</td>\n",
       "      <td>What a fantastic find! Me and fiancé love Ista...</td>\n",
       "      <td>5</td>\n",
       "      <td>28/10/2018</td>\n",
       "      <td>Genuine</td>\n",
       "      <td>1</td>\n",
       "      <td>2</td>\n",
       "      <td>10/28/2018</td>\n",
       "      <td>1</td>\n",
       "    </tr>\n",
       "  </tbody>\n",
       "</table>\n",
       "</div>"
      ],
      "text/plain": [
       "   ReviewId_x                                      SentimentText  \\\n",
       "0           1  Tuba is super laid back, charming and warm. Or...   \n",
       "1           2  What a fantastic find! Me and fiancé love Ista...   \n",
       "\n",
       "   Quantitative_Score  ReviewDate    Label  PropertyID  SiteId  \\\n",
       "0                   5  20/11/2018  Genuine           1       2   \n",
       "1                   5  28/10/2018  Genuine           1       2   \n",
       "\n",
       "  ReviewDate_Original(MM/DD/YYYY)  LanguageId  \n",
       "0                      11/20/2018           1  \n",
       "1                      10/28/2018           1  "
      ]
     },
     "execution_count": 39,
     "metadata": {},
     "output_type": "execute_result"
    }
   ],
   "source": [
    "data.head(2)"
   ]
  },
  {
   "cell_type": "code",
   "execution_count": 21,
   "metadata": {},
   "outputs": [
    {
     "data": {
      "text/plain": [
       "Index(['ReviewId_x', 'SentimentText', 'Quantitative_Score', 'ReviewDate',\n",
       "       'Label', 'PropertyID', 'SiteId', 'ReviewDate_Original(MM/DD/YYYY)',\n",
       "       'LanguageId'],\n",
       "      dtype='object')"
      ]
     },
     "execution_count": 21,
     "metadata": {},
     "output_type": "execute_result"
    }
   ],
   "source": [
    "data.columns"
   ]
  },
  {
   "cell_type": "markdown",
   "metadata": {},
   "source": [
    "Features Used in  Clusterting model:\n",
    "\n",
    "'cosine_sim', 'reading_ease', 'property_date_count','QuantitativeScore_x', 'SentimentScore', 'ReviewScore', 'length', 'No_Of_Unique_Words', 'POS_Tags_Nouns',\n",
    "       'POS_Tags_Verbs', 'deviation',\n",
    "       'positive_emotion', 'negative_emotion', 'extreme'"
   ]
  },
  {
   "cell_type": "code",
   "execution_count": 22,
   "metadata": {},
   "outputs": [
    {
     "data": {
      "text/plain": [
       "Index(['ReviewId_x', 'SentimentText', 'Quantitative_Score', 'ReviewDate',\n",
       "       'Label', 'PropertyID', 'SiteId', 'ReviewDate_Original(MM/DD/YYYY)',\n",
       "       'LanguageId'],\n",
       "      dtype='object')"
      ]
     },
     "execution_count": 22,
     "metadata": {},
     "output_type": "execute_result"
    }
   ],
   "source": [
    "data.columns"
   ]
  },
  {
   "cell_type": "code",
   "execution_count": 23,
   "metadata": {},
   "outputs": [],
   "source": [
    "data['SentimentText']=data['SentimentText'].fillna(\"\")\n",
    "data['text1'] = data['SentimentText'].apply(lambda x: \" \".join(x.lower() for x in x.split()))\n",
    "data['text1'] = data['text1'].str.replace('[^\\w\\s]','')\n",
    "data['bigram'] = data['text1'].apply(lambda row: list(ngrams(word_tokenize(row), 2)))"
   ]
  },
  {
   "cell_type": "code",
   "execution_count": 24,
   "metadata": {},
   "outputs": [],
   "source": [
    "#Defining cosine similarity \n",
    "from collections import Counter\n",
    "import math\n",
    "def spell_check2(text):\n",
    "    return([words for words in text if words not in word_set])\n",
    "def Counter1(text):\n",
    "    return(Counter(text.split()))\n",
    "def cosine_similarity_ngrams(a, b):\n",
    "    vec1 = Counter(a)\n",
    "    vec2 = Counter(b)\n",
    "    \n",
    "    intersection = set(vec1.keys()) & set(vec2.keys())\n",
    "    numerator = sum([vec1[x] * vec2[x] for x in intersection])\n",
    "\n",
    "    sum1 = sum([vec1[x]**2 for x in vec1.keys()]) \n",
    "    sum2 = sum([vec2[x]**2 for x in vec2.keys()])\n",
    "    denominator = math.sqrt(sum1) * math.sqrt(sum2)\n",
    "\n",
    "    if not denominator:\n",
    "        return 0.0\n",
    "    return float(numerator) / denominator"
   ]
  },
  {
   "cell_type": "code",
   "execution_count": 2,
   "metadata": {},
   "outputs": [],
   "source": [
    "#calculate cosine similarity of each review with other reviews of same hotel and pick the maximum value of them\n",
    "eng_review = data\n",
    "for index, row in eng_review.iterrows():\n",
    "    x = row[\"bigram\"]\n",
    "    csf = 0\n",
    "    nearest = 0\n",
    "    near_rev = ''\n",
    "    for index1, row1 in eng_review.iterrows():\n",
    "        if(int(row[\"ReviewId_x\"]) != int(row1[\"ReviewId_x\"])): \n",
    "            cs = cosine_similarity_ngrams(x,row1[\"bigram\"])\n",
    "            if csf < cs and cs != 1.0:\n",
    "                csf = cs   \n",
    "                nearest = row1[\"ReviewId_x\"]\n",
    "                near_rev = row1[\"SentimentText\"]\n",
    "    eng_review.at[index, 'cosine_sim'] = csf"
   ]
  },
  {
   "cell_type": "code",
   "execution_count": 22,
   "metadata": {},
   "outputs": [],
   "source": [
    "#Calculating Reviews received per date and adding it to the dataframe. More reviews in a single day are more suspicious compared to less reviews per day\n",
    "a = data.groupby(['ReviewDate']).ReviewId_x.count().reset_index()\n",
    "data = data.merge(a, how='left', on=['ReviewDate'])"
   ]
  },
  {
   "cell_type": "code",
   "execution_count": 24,
   "metadata": {},
   "outputs": [],
   "source": [
    "data = data.rename({'ReviewId_x_y':'property_date_count'}, axis=1)\n",
    "data = data.rename({'ReviewId_x_x':'ReviewId_x'}, axis=1)"
   ]
  },
  {
   "cell_type": "code",
   "execution_count": 26,
   "metadata": {},
   "outputs": [],
   "source": [
    "#Extracting Feature - Length of review\n",
    "data['length'] = data['SentimentText'].str.len()"
   ]
  },
  {
   "cell_type": "code",
   "execution_count": 27,
   "metadata": {},
   "outputs": [],
   "source": [
    "#Extracting feature which determines if a review is extreme or not\n",
    "def detectextreme(a):\n",
    "    if a == 0.0 or a== 10.0:\n",
    "        return 1\n",
    "    else:\n",
    "        return 0\n",
    "\n",
    "data['extreme'] = data['Quantitative_Score'].apply(detectextreme)"
   ]
  },
  {
   "cell_type": "code",
   "execution_count": 28,
   "metadata": {},
   "outputs": [],
   "source": [
    "#Extracting number of unique words in a review\n",
    "def unique_words(text):\n",
    "    return len(set(text.split()))\n",
    "data['No_Of_Unique_Words']= data['text1'].apply(unique_words)"
   ]
  },
  {
   "cell_type": "code",
   "execution_count": 29,
   "metadata": {},
   "outputs": [],
   "source": [
    "#removing reviews which has length less than 10\n",
    "data = data.loc[data['length']>10]"
   ]
  },
  {
   "cell_type": "code",
   "execution_count": 30,
   "metadata": {},
   "outputs": [],
   "source": [
    "#Extracting features which gives count of nouns and verbs in a review\n",
    "def POS_Tagging_Nouns(sentence):\n",
    "    tagged_list = []\n",
    "    tags = []\n",
    "    count_verbs = 0\n",
    "    count_nouns = 0\n",
    "    text=nltk.word_tokenize(sentence)\n",
    "    tagged_list = (nltk.pos_tag(text))\n",
    "    tags = [x[1] for x in tagged_list]\n",
    "    for each_item in tags:\n",
    "        if each_item in ['VERB','VB','VBN','VBD','VBZ','VBG','VBP']:\n",
    "            count_verbs+=1\n",
    "        elif each_item in ['NOUN','NNP','NN','NUM','NNS','NP','NNPS']:\n",
    "            count_nouns+=1\n",
    "    return count_nouns\n",
    "\n",
    "def POS_Tagging_Verbs(sentence):\n",
    "    tagged_list = []\n",
    "    tags = []\n",
    "    count_verbs = 0\n",
    "    count_nouns = 0\n",
    "    text=nltk.word_tokenize(sentence)\n",
    "    tagged_list = (nltk.pos_tag(text))\n",
    "    \n",
    "    tags = [x[1] for x in tagged_list]\n",
    "    for each_item in tags:\n",
    "        if each_item in ['VERB','VB','VBN','VBD','VBZ','VBG','VBP']:\n",
    "            count_verbs+=1\n",
    "        elif each_item in ['NOUN','NNP','NN','NUM','NNS','NP','NNPS']:\n",
    "            count_nouns+=1\n",
    "    return count_verbs\n",
    "if 1==1:\n",
    "    data['POS_Tags_Nouns']=data['text1'].apply(POS_Tagging_Nouns)\n",
    "    data['POS_Tags_Verbs']=data['text1'].apply(POS_Tagging_Verbs)"
   ]
  },
  {
   "cell_type": "code",
   "execution_count": 32,
   "metadata": {},
   "outputs": [],
   "source": [
    "#Using Flesch module to extract readability of a review\n",
    "def reading_ease(text):\n",
    "    return textstat.flesch_reading_ease(text)\n",
    "data['reading_ease'] = data['text1'].apply(reading_ease)"
   ]
  },
  {
   "cell_type": "code",
   "execution_count": 44,
   "metadata": {},
   "outputs": [],
   "source": [
    "#Extracting feature which gives deviation of a review score from average\n",
    "a = data['Quantitative_Score'].mean()\n",
    "data['Quantitative_Score_y'] = a\n",
    "data['deviation'] = abs(data['Quantitative_Score_y'] - data['Quantitative_Score'])"
   ]
  },
  {
   "cell_type": "code",
   "execution_count": 47,
   "metadata": {},
   "outputs": [
    {
     "name": "stdout",
     "output_type": "stream",
     "text": [
      "Solving environment: ...working... done\n",
      "\n",
      "# All requested packages already installed.\n",
      "\n"
     ]
    }
   ],
   "source": [
    "import sys\n",
    "!{sys.executable} -m conda install -c conda-forge textblob \n",
    "from textblob import TextBlob\n",
    "data['sentiment'] = data['SentimentText'].apply(lambda x: TextBlob(x).sentiment[0])"
   ]
  },
  {
   "cell_type": "code",
   "execution_count": 48,
   "metadata": {},
   "outputs": [
    {
     "data": {
      "text/plain": [
       "Index(['ReviewId_x', 'SentimentText', 'Quantitative_Score', 'ReviewDate',\n",
       "       'Label', 'PropertyID', 'SiteId', 'ReviewDate_Original(MM/DD/YYYY)',\n",
       "       'LanguageId', 'text1', 'bigram', 'cosine_sim', 'property_date_count',\n",
       "       'length', 'extreme', 'No_Of_Unique_Words', 'POS_Tags_Nouns',\n",
       "       'POS_Tags_Verbs', 'reading_ease', 'deviation', 'Quantitative_Score_y',\n",
       "       'sentiment'],\n",
       "      dtype='object')"
      ]
     },
     "execution_count": 48,
     "metadata": {},
     "output_type": "execute_result"
    }
   ],
   "source": [
    "data.columns"
   ]
  },
  {
   "cell_type": "code",
   "execution_count": 49,
   "metadata": {},
   "outputs": [
    {
     "name": "stdout",
     "output_type": "stream",
     "text": [
      "Requirement already satisfied: empath in c:\\programdata\\anaconda3\\lib\\site-packages (0.89)\n",
      "Requirement already satisfied: requests in c:\\programdata\\anaconda3\\lib\\site-packages (from empath) (2.18.4)\n",
      "Requirement already satisfied: chardet<3.1.0,>=3.0.2 in c:\\programdata\\anaconda3\\lib\\site-packages (from requests->empath) (3.0.4)\n",
      "Requirement already satisfied: idna<2.7,>=2.5 in c:\\programdata\\anaconda3\\lib\\site-packages (from requests->empath) (2.6)\n",
      "Requirement already satisfied: urllib3<1.23,>=1.21.1 in c:\\programdata\\anaconda3\\lib\\site-packages (from requests->empath) (1.22)\n",
      "Requirement already satisfied: certifi>=2017.4.17 in c:\\programdata\\anaconda3\\lib\\site-packages (from requests->empath) (2018.10.15)\n"
     ]
    },
    {
     "name": "stderr",
     "output_type": "stream",
     "text": [
      "You are using pip version 18.0, however version 18.1 is available.\n",
      "You should consider upgrading via the 'python -m pip install --upgrade pip' command.\n"
     ]
    }
   ],
   "source": [
    "#Using Empath package to detect extent of positive emotion and negative emotion in the review.\n",
    "import sys\n",
    "!{sys.executable} -m pip install empath\n",
    "from empath import Empath\n",
    "lexicon = Empath()\n",
    "def lex(x):\n",
    "    lx = lexicon.analyze(x, normalize=True)\n",
    "    return pd.Series((lx['positive_emotion'],lx['negative_emotion']))\n",
    "data[['positive_emotion', 'negative_emotion']] = data.apply(lambda row: pd.Series(lex(row['text1'])), axis=1)"
   ]
  },
  {
   "cell_type": "code",
   "execution_count": 3,
   "metadata": {},
   "outputs": [],
   "source": [
    "\n",
    "data = pd.read_csv('D:/capstone/yelp_model_data.csv')"
   ]
  },
  {
   "cell_type": "code",
   "execution_count": 4,
   "metadata": {},
   "outputs": [
    {
     "data": {
      "text/plain": [
       "Index(['Unnamed: 0', 'ReviewId_x', 'SentimentText', 'Quantitative_Score',\n",
       "       'ReviewDate', 'Label', 'PropertyID', 'SiteId',\n",
       "       'ReviewDate_Original(MM/DD/YYYY)', 'LanguageId', 'text1', 'bigram',\n",
       "       'cosine_sim', 'property_date_count', 'length', 'extreme',\n",
       "       'No_Of_Unique_Words', 'POS_Tags_Nouns', 'POS_Tags_Verbs',\n",
       "       'reading_ease', 'deviation', 'Quantitative_Score_y', 'sentiment',\n",
       "       'positive_emotion', 'negative_emotion', 'Label1', 'kmeans', 'gmm',\n",
       "       'db'],\n",
       "      dtype='object')"
      ]
     },
     "execution_count": 4,
     "metadata": {},
     "output_type": "execute_result"
    }
   ],
   "source": [
    "data.columns"
   ]
  },
  {
   "cell_type": "code",
   "execution_count": 5,
   "metadata": {},
   "outputs": [],
   "source": [
    "data = data.drop(['kmeans', 'gmm', 'db'], axis=1)"
   ]
  },
  {
   "cell_type": "code",
   "execution_count": 6,
   "metadata": {},
   "outputs": [],
   "source": [
    "df = data[['cosine_sim', 'reading_ease', 'property_date_count','Quantitative_Score', 'sentiment',  'length', 'No_Of_Unique_Words', 'POS_Tags_Nouns',\n",
    "       'POS_Tags_Verbs', 'deviation',\n",
    "       'positive_emotion', 'negative_emotion', 'extreme' ]]"
   ]
  },
  {
   "cell_type": "code",
   "execution_count": null,
   "metadata": {},
   "outputs": [],
   "source": []
  },
  {
   "cell_type": "code",
   "execution_count": 7,
   "metadata": {},
   "outputs": [],
   "source": [
    "#Normalizing the data between 0 and 1. As we will be using Kmeans - which uses Euclidean distance normalizing the data is useful while calculating the distance between datapoints\n",
    "from sklearn.preprocessing import MinMaxScaler\n",
    "scaler = MinMaxScaler(feature_range=(0, 1))\n",
    "rescaledX = scaler.fit_transform(df)"
   ]
  },
  {
   "cell_type": "code",
   "execution_count": 9,
   "metadata": {},
   "outputs": [],
   "source": [
    "cols = df.columns"
   ]
  },
  {
   "cell_type": "code",
   "execution_count": 10,
   "metadata": {},
   "outputs": [],
   "source": [
    "#kmeans model \n",
    "#data = data.drop(['kmeans'], axis=1)\n",
    "from sklearn.cluster import KMeans\n",
    "from sklearn.model_selection import train_test_split\n",
    "from matplotlib import pyplot as plt\n",
    "def doKmeans(X, nclust=2):\n",
    "    model = KMeans(nclust)\n",
    "    model.fit(X)\n",
    "    clust_labels = model.predict(X)\n",
    "    cent = model.cluster_centers_\n",
    "    return (clust_labels, cent)\n",
    "df = pd.DataFrame(rescaledX, columns=cols)\n",
    "clust_labels, cent = doKmeans(df, 2)\n",
    "kmeans = pd.DataFrame(clust_labels)\n",
    "df.insert((df.shape[1]),'kmeans',kmeans)\n",
    "data.insert((data.shape[1]),'kmeans',kmeans)"
   ]
  },
  {
   "cell_type": "code",
   "execution_count": 11,
   "metadata": {},
   "outputs": [
    {
     "data": {
      "text/plain": [
       "0    907\n",
       "1    150\n",
       "Name: kmeans, dtype: int64"
      ]
     },
     "execution_count": 11,
     "metadata": {},
     "output_type": "execute_result"
    }
   ],
   "source": [
    "data['kmeans'].value_counts()"
   ]
  },
  {
   "cell_type": "code",
   "execution_count": 12,
   "metadata": {},
   "outputs": [],
   "source": [
    "def principal_component_analysis(x_train):\n",
    "    # Extract the variable to be predicted\n",
    "    y_train = x_train[\"gmmnc\"]\n",
    "    x_train = x_train.drop(labels=\"gmmnc\", axis=1)\n",
    "    classes = np.sort(np.unique(y_train))\n",
    "    labels = [\"Fake Review\", \"Non- Fake review\"]\n",
    "    \n",
    "    # Normalize each feature to unit norm (vector length)\n",
    "    x_train_normalized = normalize(x_train, axis=0)\n",
    "    \n",
    "    # Run PCA\n",
    "    pca = PCA(n_components=2)\n",
    "    x_train_projected = pca.fit_transform(x_train_normalized)\n",
    "\n",
    "    # Visualize\n",
    "    fig = plt.figure(figsize=(10, 7))\n",
    "    ax = fig.add_subplot(1, 1, 1)\n",
    "    colors = [(0.0, 0.63, 0.69), 'black']\n",
    "    markers = [\"o\", \"D\"]\n",
    "    for class_ix, marker, color, label in zip(\n",
    "            classes, markers, colors, labels):\n",
    "        ax.scatter(x_train_projected[np.where(y_train == class_ix), 0],\n",
    "                   x_train_projected[np.where(y_train == class_ix), 1],\n",
    "                   marker=marker, color=color, edgecolor='whitesmoke',\n",
    "                   linewidth='1', alpha=0.9, label=label)\n",
    "        ax.legend(loc='best')\n",
    "    plt.title(\n",
    "        \"Scatter plot of the training data examples projected on the \"\n",
    "        \"2 first principal components with diagonal covariance\")\n",
    "    plt.xlabel(\"Principal axis 1 - Explains %.1f %% of the variance\" % (\n",
    "        pca.explained_variance_ratio_[0] * 100.0))\n",
    "    plt.ylabel(\"Principal axis 2 - Explains %.1f %% of the variance\" % (\n",
    "        pca.explained_variance_ratio_[1] * 100.0))\n",
    "    plt.show()\n",
    "\n",
    "    plt.savefig(\"pca.pdf\", format='pdf')\n",
    "    plt.savefig(\"pca.png\", format='png')\n",
    "\n",
    "\n",
    "def remove_feat_constants(data_frame):\n",
    "    print(\"\")\n",
    "    print(\"Deleting zero variance features...\")\n",
    "    n_features_originally = data_frame.shape[1]\n",
    "    selector = VarianceThreshold()\n",
    "    selector.fit(data_frame)\n",
    "    # Get the indices of zero variance feats\n",
    "    feat_ix_keep = selector.get_support(indices=True)\n",
    "    orig_feat_ix = np.arange(data_frame.columns.size)\n",
    "    feat_ix_delete = np.delete(orig_feat_ix, feat_ix_keep)\n",
    "    # Delete zero variance feats from the original pandas data frame\n",
    "    data_frame = data_frame.drop(labels=data_frame.columns[feat_ix_delete],\n",
    "                                 axis=1)\n",
    "    # Print info\n",
    "    n_features_deleted = feat_ix_delete.size\n",
    "    print(\"  - Deleted %s / %s features (~= %.1f %%)\" % (\n",
    "        n_features_deleted, n_features_originally,\n",
    "        100.0 * (np.float(n_features_deleted) / n_features_originally)))\n",
    "    return data_frame\n",
    "\n",
    "\n",
    "def remove_feat_identicals(data_frame):\n",
    "    # Find feature vectors having the same values in the same order and\n",
    "    # remove all but one of those redundant features.\n",
    "    print(\"\")\n",
    "    print(\"Deleting identical features...\")\n",
    "    n_features_originally = data_frame.shape[1]\n",
    "    # Find the names of identical features by going through all the\n",
    "    # combinations of features (each pair is compared only once).\n",
    "    feat_names_delete = []\n",
    "    for feat_1, feat_2 in itertools.combinations(\n",
    "            iterable=data_frame.columns, r=2):\n",
    "        if np.array_equal(data_frame[feat_1], data_frame[feat_2]):\n",
    "            feat_names_delete.append(feat_2)\n",
    "    feat_names_delete = np.unique(feat_names_delete)\n",
    "    # Delete the identical features\n",
    "    data_frame = data_frame.drop(labels=feat_names_delete, axis=1)\n",
    "    n_features_deleted = len(feat_names_delete)\n",
    "    print(\"  - Deleted %s / %s features (~= %.1f %%)\" % (\n",
    "        n_features_deleted, n_features_originally,\n",
    "        100.0 * (np.float(n_features_deleted) / n_features_originally)))\n",
    "    return data_frame\n"
   ]
  },
  {
   "cell_type": "code",
   "execution_count": 123,
   "metadata": {},
   "outputs": [
    {
     "name": "stdout",
     "output_type": "stream",
     "text": [
      "\n",
      "Deleting zero variance features...\n",
      "  - Deleted 1 / 14 features (~= 7.1 %)\n",
      "\n",
      "Deleting identical features...\n",
      "  - Deleted 0 / 13 features (~= 0.0 %)\n"
     ]
    },
    {
     "data": {
      "image/png": "[encoded data removed]",
      "text/plain": [
       "<Figure size 720x504 with 1 Axes>"
      ]
     },
     "metadata": {},
     "output_type": "display_data"
    },
    {
     "data": {
      "text/plain": [
       "<Figure size 432x288 with 0 Axes>"
      ]
     },
     "metadata": {},
     "output_type": "display_data"
    }
   ],
   "source": [
    "import itertools\n",
    "import seaborn as sns\n",
    "\n",
    "from sklearn.feature_selection import VarianceThreshold\n",
    "from sklearn.preprocessing import normalize\n",
    "from sklearn.decomposition import PCA\n",
    "x_train = df2\n",
    "#x_train = pd.read_csv(filepath_or_buffer=\"../input/train.csv\",index_col=0, sep=',')\n",
    "x_train = remove_feat_constants(x_train)\n",
    "x_train = remove_feat_identicals(x_train)\n",
    "principal_component_analysis(x_train)"
   ]
  },
  {
   "cell_type": "code",
   "execution_count": 31,
   "metadata": {},
   "outputs": [
    {
     "data": {
      "text/plain": [
       "1    906\n",
       "0    151\n",
       "Name: kmeans, dtype: int64"
      ]
     },
     "execution_count": 31,
     "metadata": {},
     "output_type": "execute_result"
    }
   ],
   "source": [
    "#Get Count of reviews in each cluster\n",
    "df['kmeans'].value_counts()"
   ]
  },
  {
   "cell_type": "code",
   "execution_count": 90,
   "metadata": {},
   "outputs": [],
   "source": [
    "df1 = data[['cosine_sim', 'reading_ease', 'property_date_count','Quantitative_Score', 'sentiment',  'length', 'No_Of_Unique_Words', 'POS_Tags_Nouns',\n",
    "       'POS_Tags_Verbs', 'deviation',\n",
    "       'positive_emotion', 'negative_emotion', 'extreme' ]]"
   ]
  },
  {
   "cell_type": "code",
   "execution_count": 91,
   "metadata": {},
   "outputs": [],
   "source": [
    "cols1 = df1.columns"
   ]
  },
  {
   "cell_type": "code",
   "execution_count": 92,
   "metadata": {},
   "outputs": [],
   "source": [
    "from sklearn.preprocessing import MinMaxScaler\n",
    "scaler = MinMaxScaler(feature_range=(0, 1))\n",
    "rescaledX1 = scaler.fit_transform(df1)"
   ]
  },
  {
   "cell_type": "code",
   "execution_count": 94,
   "metadata": {},
   "outputs": [],
   "source": [
    "#Gaussian Mixture Model with Full Covariance\n",
    "data = data.drop('gmm', axis=1)\n",
    "from sklearn.mixture import GMM\n",
    "def doGmm(X, nclust=2):\n",
    "    model = GMM(nclust, covariance_type='full')\n",
    "    model.fit(X)\n",
    "    clust_labels = model.predict(X)\n",
    "    #cent = model.cluster_centers_\n",
    "    return (clust_labels)\n",
    "\n",
    "df1 = pd.DataFrame(rescaledX1, columns=cols1)\n",
    "clust_labels = doGmm(df1, 2)\n",
    "gmm = pd.DataFrame(clust_labels)\n",
    "df1.insert((df1.shape[1]),'gmm',gmm)\n",
    "data.insert((data.shape[1]), 'gmm', gmm)"
   ]
  },
  {
   "cell_type": "code",
   "execution_count": 95,
   "metadata": {},
   "outputs": [
    {
     "data": {
      "text/plain": [
       "0.8694418164616841"
      ]
     },
     "execution_count": 95,
     "metadata": {},
     "output_type": "execute_result"
    }
   ],
   "source": [
    "from sklearn.metrics import accuracy_score\n",
    "accuracy_score(data['Label1'], data['gmm'])"
   ]
  },
  {
   "cell_type": "code",
   "execution_count": 96,
   "metadata": {},
   "outputs": [
    {
     "data": {
      "text/plain": [
       "array([[789, 138],\n",
       "       [  0, 130]], dtype=int64)"
      ]
     },
     "execution_count": 96,
     "metadata": {},
     "output_type": "execute_result"
    }
   ],
   "source": [
    "from sklearn.metrics import confusion_matrix\n",
    "confusion_matrix(data['Label1'], data['gmm'])"
   ]
  },
  {
   "cell_type": "code",
   "execution_count": 41,
   "metadata": {},
   "outputs": [],
   "source": [
    "df2 = data[['cosine_sim', 'reading_ease', 'property_date_count','Quantitative_Score', 'sentiment',  'length', 'No_Of_Unique_Words', 'POS_Tags_Nouns',\n",
    "       'POS_Tags_Verbs', 'deviation',\n",
    "       'positive_emotion', 'negative_emotion', 'extreme' ]]"
   ]
  },
  {
   "cell_type": "code",
   "execution_count": 42,
   "metadata": {},
   "outputs": [],
   "source": [
    "from sklearn.preprocessing import MinMaxScaler\n",
    "scaler = MinMaxScaler(feature_range=(0, 1))\n",
    "rescaledX2 = scaler.fit_transform(df2)"
   ]
  },
  {
   "cell_type": "code",
   "execution_count": 46,
   "metadata": {},
   "outputs": [],
   "source": [
    "\n",
    "from sklearn.mixture import GMM\n",
    "#data = data.drop('gmmnc', axis=1)\n",
    "df2 = df2.drop('gmmnc', axis=1)\n",
    "cols = df2.columns\n",
    "def doGmm(X, nclust=2):\n",
    "    model = GMM(nclust, covariance_type = 'full')\n",
    "    model.fit(X)\n",
    "    clust_labels = model.predict(X)\n",
    "    #cent = model.cluster_centers_\n",
    "    return (clust_labels)\n",
    "\n",
    "df2 = pd.DataFrame(rescaledX2, columns=cols)\n",
    "clust_labels = doGmm(df2, 2)\n",
    "gmm = pd.DataFrame(clust_labels)\n",
    "df2.insert((df2.shape[1]),'gmmnc',gmm)\n",
    "data.insert((data.shape[1]),'gmmnc',gmm)"
   ]
  },
  {
   "cell_type": "code",
   "execution_count": 47,
   "metadata": {},
   "outputs": [
    {
     "data": {
      "text/plain": [
       "0.8694418164616841"
      ]
     },
     "execution_count": 47,
     "metadata": {},
     "output_type": "execute_result"
    }
   ],
   "source": [
    "from sklearn.metrics import accuracy_score\n",
    "accuracy_score(data['Label1'], data['gmmnc'])"
   ]
  },
  {
   "cell_type": "code",
   "execution_count": 127,
   "metadata": {},
   "outputs": [
    {
     "data": {
      "text/plain": [
       "array([[681, 246],\n",
       "       [  0, 130]], dtype=int64)"
      ]
     },
     "execution_count": 127,
     "metadata": {},
     "output_type": "execute_result"
    }
   ],
   "source": [
    "from sklearn.metrics import confusion_matrix\n",
    "confusion_matrix(data['Label1'], data['gmmnc'])"
   ]
  },
  {
   "cell_type": "code",
   "execution_count": 124,
   "metadata": {},
   "outputs": [
    {
     "data": {
      "text/plain": [
       "0    789\n",
       "1    268\n",
       "Name: gmm, dtype: int64"
      ]
     },
     "execution_count": 124,
     "metadata": {},
     "output_type": "execute_result"
    }
   ],
   "source": [
    "data['gmm'].value_counts()"
   ]
  },
  {
   "cell_type": "code",
   "execution_count": 125,
   "metadata": {},
   "outputs": [
    {
     "data": {
      "text/plain": [
       "0    681\n",
       "1    376\n",
       "Name: gmmnc, dtype: int64"
      ]
     },
     "execution_count": 125,
     "metadata": {},
     "output_type": "execute_result"
    }
   ],
   "source": [
    "data['gmmnc'].value_counts()"
   ]
  },
  {
   "cell_type": "code",
   "execution_count": 126,
   "metadata": {},
   "outputs": [
    {
     "data": {
      "text/plain": [
       "0    907\n",
       "1    150\n",
       "Name: kmeans, dtype: int64"
      ]
     },
     "execution_count": 126,
     "metadata": {},
     "output_type": "execute_result"
    }
   ],
   "source": [
    "data['kmeans'].value_counts()"
   ]
  },
  {
   "cell_type": "code",
   "execution_count": 86,
   "metadata": {},
   "outputs": [
    {
     "data": {
      "text/plain": [
       "Genuine    927\n",
       "FAKE       130\n",
       "Name: Label, dtype: int64"
      ]
     },
     "execution_count": 86,
     "metadata": {},
     "output_type": "execute_result"
    }
   ],
   "source": [
    "#Yelp Provided labels\n",
    "data['Label'].value_counts()"
   ]
  },
  {
   "cell_type": "code",
   "execution_count": 57,
   "metadata": {},
   "outputs": [],
   "source": [
    "#labels provided by Yelp which we are using here to test our model\n",
    "def labeldef(a):\n",
    "    if a == 'Genuine':\n",
    "        return 0\n",
    "    else:\n",
    "        return 1"
   ]
  },
  {
   "cell_type": "code",
   "execution_count": 58,
   "metadata": {},
   "outputs": [],
   "source": [
    "data['Label1'] = data['Label'].apply(labeldef)"
   ]
  },
  {
   "cell_type": "code",
   "execution_count": 35,
   "metadata": {},
   "outputs": [
    {
     "data": {
      "text/html": [
       "<div>\n",
       "<style scoped>\n",
       "    .dataframe tbody tr th:only-of-type {\n",
       "        vertical-align: middle;\n",
       "    }\n",
       "\n",
       "    .dataframe tbody tr th {\n",
       "        vertical-align: top;\n",
       "    }\n",
       "\n",
       "    .dataframe thead th {\n",
       "        text-align: right;\n",
       "    }\n",
       "</style>\n",
       "<table border=\"1\" class=\"dataframe\">\n",
       "  <thead>\n",
       "    <tr style=\"text-align: right;\">\n",
       "      <th></th>\n",
       "      <th>cosine_sim</th>\n",
       "      <th>reading_ease</th>\n",
       "      <th>property_date_count</th>\n",
       "      <th>Quantitative_Score</th>\n",
       "      <th>sentiment</th>\n",
       "      <th>No_Of_Unique_Words</th>\n",
       "      <th>deviation</th>\n",
       "      <th>positive_emotion</th>\n",
       "      <th>negative_emotion</th>\n",
       "      <th>extreme</th>\n",
       "      <th>kmeans</th>\n",
       "    </tr>\n",
       "  </thead>\n",
       "  <tbody>\n",
       "    <tr>\n",
       "      <th>0</th>\n",
       "      <td>0.070167</td>\n",
       "      <td>0.882530</td>\n",
       "      <td>0.000000</td>\n",
       "      <td>1.0</td>\n",
       "      <td>0.483397</td>\n",
       "      <td>0.165165</td>\n",
       "      <td>0.283507</td>\n",
       "      <td>0.000000</td>\n",
       "      <td>0.0</td>\n",
       "      <td>0.0</td>\n",
       "      <td>1</td>\n",
       "    </tr>\n",
       "    <tr>\n",
       "      <th>1</th>\n",
       "      <td>0.121156</td>\n",
       "      <td>0.801147</td>\n",
       "      <td>0.071429</td>\n",
       "      <td>1.0</td>\n",
       "      <td>0.474576</td>\n",
       "      <td>0.249249</td>\n",
       "      <td>0.283507</td>\n",
       "      <td>0.142857</td>\n",
       "      <td>0.0</td>\n",
       "      <td>0.0</td>\n",
       "      <td>1</td>\n",
       "    </tr>\n",
       "  </tbody>\n",
       "</table>\n",
       "</div>"
      ],
      "text/plain": [
       "   cosine_sim  reading_ease  property_date_count  Quantitative_Score  \\\n",
       "0    0.070167      0.882530             0.000000                 1.0   \n",
       "1    0.121156      0.801147             0.071429                 1.0   \n",
       "\n",
       "   sentiment  No_Of_Unique_Words  deviation  positive_emotion  \\\n",
       "0   0.483397            0.165165   0.283507          0.000000   \n",
       "1   0.474576            0.249249   0.283507          0.142857   \n",
       "\n",
       "   negative_emotion  extreme  kmeans  \n",
       "0               0.0      0.0       1  \n",
       "1               0.0      0.0       1  "
      ]
     },
     "execution_count": 35,
     "metadata": {},
     "output_type": "execute_result"
    }
   ],
   "source": [
    "df.head(2)"
   ]
  },
  {
   "cell_type": "code",
   "execution_count": 34,
   "metadata": {},
   "outputs": [
    {
     "ename": "ValueError",
     "evalue": "cannot insert kmeans, already exists",
     "output_type": "error",
     "traceback": [
      "\u001b[1;31m---------------------------------------------------------------------------\u001b[0m",
      "\u001b[1;31mValueError\u001b[0m                                Traceback (most recent call last)",
      "\u001b[1;32m<ipython-input-34-eeca81c2ea16>\u001b[0m in \u001b[0;36m<module>\u001b[1;34m()\u001b[0m\n\u001b[0;32m      1\u001b[0m \u001b[1;31m#adding Kmeans and Gmm model predicted labels to original dataset\u001b[0m\u001b[1;33m\u001b[0m\u001b[1;33m\u001b[0m\u001b[0m\n\u001b[1;32m----> 2\u001b[1;33m \u001b[0mdata\u001b[0m\u001b[1;33m.\u001b[0m\u001b[0minsert\u001b[0m\u001b[1;33m(\u001b[0m\u001b[1;33m(\u001b[0m\u001b[0mdata\u001b[0m\u001b[1;33m.\u001b[0m\u001b[0mshape\u001b[0m\u001b[1;33m[\u001b[0m\u001b[1;36m1\u001b[0m\u001b[1;33m]\u001b[0m\u001b[1;33m)\u001b[0m\u001b[1;33m,\u001b[0m\u001b[1;34m'kmeans'\u001b[0m\u001b[1;33m,\u001b[0m\u001b[0mkmeans\u001b[0m\u001b[1;33m)\u001b[0m\u001b[1;33m\u001b[0m\u001b[0m\n\u001b[0m\u001b[0;32m      3\u001b[0m \u001b[0mdata\u001b[0m\u001b[1;33m.\u001b[0m\u001b[0minsert\u001b[0m\u001b[1;33m(\u001b[0m\u001b[1;33m(\u001b[0m\u001b[0mdata\u001b[0m\u001b[1;33m.\u001b[0m\u001b[0mshape\u001b[0m\u001b[1;33m[\u001b[0m\u001b[1;36m1\u001b[0m\u001b[1;33m]\u001b[0m\u001b[1;33m)\u001b[0m\u001b[1;33m,\u001b[0m\u001b[1;34m'gmm'\u001b[0m\u001b[1;33m,\u001b[0m\u001b[0mgmm\u001b[0m\u001b[1;33m)\u001b[0m\u001b[1;33m\u001b[0m\u001b[0m\n\u001b[0;32m      4\u001b[0m \u001b[0mdata\u001b[0m\u001b[1;33m.\u001b[0m\u001b[0minsert\u001b[0m\u001b[1;33m(\u001b[0m\u001b[1;33m(\u001b[0m\u001b[0mdata\u001b[0m\u001b[1;33m.\u001b[0m\u001b[0mshape\u001b[0m\u001b[1;33m[\u001b[0m\u001b[1;36m1\u001b[0m\u001b[1;33m]\u001b[0m\u001b[1;33m)\u001b[0m\u001b[1;33m,\u001b[0m\u001b[1;34m'db'\u001b[0m\u001b[1;33m,\u001b[0m\u001b[0mdbd\u001b[0m\u001b[1;33m)\u001b[0m\u001b[1;33m\u001b[0m\u001b[0m\n",
      "\u001b[1;32mC:\\ProgramData\\Anaconda3\\lib\\site-packages\\pandas\\core\\frame.py\u001b[0m in \u001b[0;36minsert\u001b[1;34m(self, loc, column, value, allow_duplicates)\u001b[0m\n\u001b[0;32m   3217\u001b[0m         \u001b[0mvalue\u001b[0m \u001b[1;33m=\u001b[0m \u001b[0mself\u001b[0m\u001b[1;33m.\u001b[0m\u001b[0m_sanitize_column\u001b[0m\u001b[1;33m(\u001b[0m\u001b[0mcolumn\u001b[0m\u001b[1;33m,\u001b[0m \u001b[0mvalue\u001b[0m\u001b[1;33m,\u001b[0m \u001b[0mbroadcast\u001b[0m\u001b[1;33m=\u001b[0m\u001b[1;32mFalse\u001b[0m\u001b[1;33m)\u001b[0m\u001b[1;33m\u001b[0m\u001b[0m\n\u001b[0;32m   3218\u001b[0m         self._data.insert(loc, column, value,\n\u001b[1;32m-> 3219\u001b[1;33m                           allow_duplicates=allow_duplicates)\n\u001b[0m\u001b[0;32m   3220\u001b[0m \u001b[1;33m\u001b[0m\u001b[0m\n\u001b[0;32m   3221\u001b[0m     \u001b[1;32mdef\u001b[0m \u001b[0massign\u001b[0m\u001b[1;33m(\u001b[0m\u001b[0mself\u001b[0m\u001b[1;33m,\u001b[0m \u001b[1;33m**\u001b[0m\u001b[0mkwargs\u001b[0m\u001b[1;33m)\u001b[0m\u001b[1;33m:\u001b[0m\u001b[1;33m\u001b[0m\u001b[0m\n",
      "\u001b[1;32mC:\\ProgramData\\Anaconda3\\lib\\site-packages\\pandas\\core\\internals.py\u001b[0m in \u001b[0;36minsert\u001b[1;34m(self, loc, item, value, allow_duplicates)\u001b[0m\n\u001b[0;32m   4336\u001b[0m         \u001b[1;32mif\u001b[0m \u001b[1;32mnot\u001b[0m \u001b[0mallow_duplicates\u001b[0m \u001b[1;32mand\u001b[0m \u001b[0mitem\u001b[0m \u001b[1;32min\u001b[0m \u001b[0mself\u001b[0m\u001b[1;33m.\u001b[0m\u001b[0mitems\u001b[0m\u001b[1;33m:\u001b[0m\u001b[1;33m\u001b[0m\u001b[0m\n\u001b[0;32m   4337\u001b[0m             \u001b[1;31m# Should this be a different kind of error??\u001b[0m\u001b[1;33m\u001b[0m\u001b[1;33m\u001b[0m\u001b[0m\n\u001b[1;32m-> 4338\u001b[1;33m             \u001b[1;32mraise\u001b[0m \u001b[0mValueError\u001b[0m\u001b[1;33m(\u001b[0m\u001b[1;34m'cannot insert {}, already exists'\u001b[0m\u001b[1;33m.\u001b[0m\u001b[0mformat\u001b[0m\u001b[1;33m(\u001b[0m\u001b[0mitem\u001b[0m\u001b[1;33m)\u001b[0m\u001b[1;33m)\u001b[0m\u001b[1;33m\u001b[0m\u001b[0m\n\u001b[0m\u001b[0;32m   4339\u001b[0m \u001b[1;33m\u001b[0m\u001b[0m\n\u001b[0;32m   4340\u001b[0m         \u001b[1;32mif\u001b[0m \u001b[1;32mnot\u001b[0m \u001b[0misinstance\u001b[0m\u001b[1;33m(\u001b[0m\u001b[0mloc\u001b[0m\u001b[1;33m,\u001b[0m \u001b[0mint\u001b[0m\u001b[1;33m)\u001b[0m\u001b[1;33m:\u001b[0m\u001b[1;33m\u001b[0m\u001b[0m\n",
      "\u001b[1;31mValueError\u001b[0m: cannot insert kmeans, already exists"
     ]
    }
   ],
   "source": [
    "#adding Kmeans and Gmm model predicted labels to original dataset\n",
    "data.insert((data.shape[1]),'kmeans',kmeans)\n",
    "data.insert((data.shape[1]),'gmm',gmm)\n",
    "data.insert((data.shape[1]),'db',dbd)"
   ]
  },
  {
   "cell_type": "code",
   "execution_count": 99,
   "metadata": {},
   "outputs": [
    {
     "data": {
      "text/html": [
       "<div>\n",
       "<style scoped>\n",
       "    .dataframe tbody tr th:only-of-type {\n",
       "        vertical-align: middle;\n",
       "    }\n",
       "\n",
       "    .dataframe tbody tr th {\n",
       "        vertical-align: top;\n",
       "    }\n",
       "\n",
       "    .dataframe thead th {\n",
       "        text-align: right;\n",
       "    }\n",
       "</style>\n",
       "<table border=\"1\" class=\"dataframe\">\n",
       "  <thead>\n",
       "    <tr style=\"text-align: right;\">\n",
       "      <th></th>\n",
       "      <th>Label1</th>\n",
       "      <th>kmeans</th>\n",
       "      <th>gmm</th>\n",
       "      <th>db</th>\n",
       "    </tr>\n",
       "  </thead>\n",
       "  <tbody>\n",
       "    <tr>\n",
       "      <th>0</th>\n",
       "      <td>0</td>\n",
       "      <td>0</td>\n",
       "      <td>0</td>\n",
       "      <td>-1</td>\n",
       "    </tr>\n",
       "    <tr>\n",
       "      <th>1</th>\n",
       "      <td>0</td>\n",
       "      <td>0</td>\n",
       "      <td>0</td>\n",
       "      <td>-1</td>\n",
       "    </tr>\n",
       "    <tr>\n",
       "      <th>2</th>\n",
       "      <td>0</td>\n",
       "      <td>0</td>\n",
       "      <td>0</td>\n",
       "      <td>-1</td>\n",
       "    </tr>\n",
       "    <tr>\n",
       "      <th>3</th>\n",
       "      <td>0</td>\n",
       "      <td>0</td>\n",
       "      <td>0</td>\n",
       "      <td>-1</td>\n",
       "    </tr>\n",
       "    <tr>\n",
       "      <th>4</th>\n",
       "      <td>0</td>\n",
       "      <td>0</td>\n",
       "      <td>0</td>\n",
       "      <td>-1</td>\n",
       "    </tr>\n",
       "    <tr>\n",
       "      <th>5</th>\n",
       "      <td>0</td>\n",
       "      <td>0</td>\n",
       "      <td>0</td>\n",
       "      <td>-1</td>\n",
       "    </tr>\n",
       "    <tr>\n",
       "      <th>6</th>\n",
       "      <td>0</td>\n",
       "      <td>0</td>\n",
       "      <td>1</td>\n",
       "      <td>-1</td>\n",
       "    </tr>\n",
       "    <tr>\n",
       "      <th>7</th>\n",
       "      <td>0</td>\n",
       "      <td>0</td>\n",
       "      <td>1</td>\n",
       "      <td>-1</td>\n",
       "    </tr>\n",
       "    <tr>\n",
       "      <th>8</th>\n",
       "      <td>0</td>\n",
       "      <td>0</td>\n",
       "      <td>0</td>\n",
       "      <td>-1</td>\n",
       "    </tr>\n",
       "    <tr>\n",
       "      <th>9</th>\n",
       "      <td>0</td>\n",
       "      <td>0</td>\n",
       "      <td>1</td>\n",
       "      <td>-1</td>\n",
       "    </tr>\n",
       "  </tbody>\n",
       "</table>\n",
       "</div>"
      ],
      "text/plain": [
       "   Label1  kmeans  gmm  db\n",
       "0       0       0    0  -1\n",
       "1       0       0    0  -1\n",
       "2       0       0    0  -1\n",
       "3       0       0    0  -1\n",
       "4       0       0    0  -1\n",
       "5       0       0    0  -1\n",
       "6       0       0    1  -1\n",
       "7       0       0    1  -1\n",
       "8       0       0    0  -1\n",
       "9       0       0    1  -1"
      ]
     },
     "execution_count": 99,
     "metadata": {},
     "output_type": "execute_result"
    }
   ],
   "source": [
    "data[['Label1', 'kmeans', 'gmm', 'db']].head(10)"
   ]
  },
  {
   "cell_type": "code",
   "execution_count": 121,
   "metadata": {},
   "outputs": [
    {
     "data": {
      "text/plain": [
       "0    907\n",
       "1    150\n",
       "Name: kmeans, dtype: int64"
      ]
     },
     "execution_count": 121,
     "metadata": {},
     "output_type": "execute_result"
    }
   ],
   "source": [
    "#predicted labels for Kmeans model for Yelp dataset\n",
    "data['kmeans'].value_counts()"
   ]
  },
  {
   "cell_type": "code",
   "execution_count": 122,
   "metadata": {},
   "outputs": [
    {
     "data": {
      "text/plain": [
       "0    789\n",
       "1    268\n",
       "Name: gmm, dtype: int64"
      ]
     },
     "execution_count": 122,
     "metadata": {},
     "output_type": "execute_result"
    }
   ],
   "source": [
    "#Predicted labels for GMM for Yelp Dataset\n",
    "data['gmm'].value_counts()"
   ]
  },
  {
   "cell_type": "code",
   "execution_count": 14,
   "metadata": {},
   "outputs": [
    {
     "data": {
      "text/plain": [
       "0.9810785241248817"
      ]
     },
     "execution_count": 14,
     "metadata": {},
     "output_type": "execute_result"
    }
   ],
   "source": [
    "#Calculating accuracy Score for Actual labels and Kmeans predicted labels\n",
    "from sklearn.metrics import accuracy_score\n",
    "accuracy_score(data['Label1'], data['kmeans'])"
   ]
  },
  {
   "cell_type": "code",
   "execution_count": 50,
   "metadata": {},
   "outputs": [
    {
     "data": {
      "text/plain": [
       "0.9892125134843581"
      ]
     },
     "execution_count": 50,
     "metadata": {},
     "output_type": "execute_result"
    }
   ],
   "source": [
    "from sklearn.metrics import roc_curve, auc\n",
    "false_positive_rate, true_positive_rate, thresholds = roc_curve(data['Label1'], data['kmeans'])\n",
    "roc_auc = auc(false_positive_rate, true_positive_rate)\n",
    "roc_auc\n"
   ]
  },
  {
   "cell_type": "code",
   "execution_count": 51,
   "metadata": {},
   "outputs": [
    {
     "data": {
      "text/plain": [
       "Text(0.5,0,'False Positive Rate')"
      ]
     },
     "execution_count": 51,
     "metadata": {},
     "output_type": "execute_result"
    },
    {
     "data": {
      "image/png": "[encoded data removed]",
      "text/plain": [
       "<Figure size 720x720 with 1 Axes>"
      ]
     },
     "metadata": {},
     "output_type": "display_data"
    }
   ],
   "source": [
    "import matplotlib.pyplot as plt\n",
    "plt.figure(figsize=(10,10))\n",
    "plt.title('Receiver Operating Characteristic with Kmeans')\n",
    "plt.plot(false_positive_rate,true_positive_rate, color='red',label = 'AUC = %0.2f' % roc_auc)\n",
    "plt.legend(loc = 'lower right')\n",
    "plt.plot([0, 1], [0, 1],linestyle='--')\n",
    "plt.axis('tight')\n",
    "plt.ylabel('True Positive Rate')\n",
    "plt.xlabel('False Positive Rate')"
   ]
  },
  {
   "cell_type": "code",
   "execution_count": 66,
   "metadata": {},
   "outputs": [
    {
     "data": {
      "text/html": [
       "<div>\n",
       "<style scoped>\n",
       "    .dataframe tbody tr th:only-of-type {\n",
       "        vertical-align: middle;\n",
       "    }\n",
       "\n",
       "    .dataframe tbody tr th {\n",
       "        vertical-align: top;\n",
       "    }\n",
       "\n",
       "    .dataframe thead th {\n",
       "        text-align: right;\n",
       "    }\n",
       "</style>\n",
       "<table border=\"1\" class=\"dataframe\">\n",
       "  <thead>\n",
       "    <tr style=\"text-align: right;\">\n",
       "      <th></th>\n",
       "      <th>cosine_sim</th>\n",
       "      <th>reading_ease</th>\n",
       "      <th>property_date_count</th>\n",
       "      <th>Quantitative_Score</th>\n",
       "      <th>sentiment</th>\n",
       "      <th>No_Of_Unique_Words</th>\n",
       "      <th>deviation</th>\n",
       "      <th>positive_emotion</th>\n",
       "      <th>negative_emotion</th>\n",
       "      <th>extreme</th>\n",
       "      <th>kmeans</th>\n",
       "    </tr>\n",
       "  </thead>\n",
       "  <tbody>\n",
       "    <tr>\n",
       "      <th>0</th>\n",
       "      <td>0.070167</td>\n",
       "      <td>0.882530</td>\n",
       "      <td>0.000000</td>\n",
       "      <td>1.0</td>\n",
       "      <td>0.483397</td>\n",
       "      <td>0.165165</td>\n",
       "      <td>0.283507</td>\n",
       "      <td>0.000000</td>\n",
       "      <td>0.0</td>\n",
       "      <td>0.0</td>\n",
       "      <td>1</td>\n",
       "    </tr>\n",
       "    <tr>\n",
       "      <th>1</th>\n",
       "      <td>0.121156</td>\n",
       "      <td>0.801147</td>\n",
       "      <td>0.071429</td>\n",
       "      <td>1.0</td>\n",
       "      <td>0.474576</td>\n",
       "      <td>0.249249</td>\n",
       "      <td>0.283507</td>\n",
       "      <td>0.142857</td>\n",
       "      <td>0.0</td>\n",
       "      <td>0.0</td>\n",
       "      <td>1</td>\n",
       "    </tr>\n",
       "  </tbody>\n",
       "</table>\n",
       "</div>"
      ],
      "text/plain": [
       "   cosine_sim  reading_ease  property_date_count  Quantitative_Score  \\\n",
       "0    0.070167      0.882530             0.000000                 1.0   \n",
       "1    0.121156      0.801147             0.071429                 1.0   \n",
       "\n",
       "   sentiment  No_Of_Unique_Words  deviation  positive_emotion  \\\n",
       "0   0.483397            0.165165   0.283507          0.000000   \n",
       "1   0.474576            0.249249   0.283507          0.142857   \n",
       "\n",
       "   negative_emotion  extreme  kmeans  \n",
       "0               0.0      0.0       1  \n",
       "1               0.0      0.0       1  "
      ]
     },
     "execution_count": 66,
     "metadata": {},
     "output_type": "execute_result"
    }
   ],
   "source": [
    "df.head(2)"
   ]
  },
  {
   "cell_type": "code",
   "execution_count": 78,
   "metadata": {},
   "outputs": [
    {
     "data": {
      "text/plain": [
       "array([[907,  20],\n",
       "       [  0, 130]], dtype=int64)"
      ]
     },
     "execution_count": 78,
     "metadata": {},
     "output_type": "execute_result"
    }
   ],
   "source": [
    "from sklearn.metrics import confusion_matrix\n",
    "confusion_matrix(data['Label1'], data['kmeans'])"
   ]
  },
  {
   "cell_type": "code",
   "execution_count": 37,
   "metadata": {},
   "outputs": [
    {
     "name": "stdout",
     "output_type": "stream",
     "text": [
      "matched labels: 1037 unmatched labels: 20\n"
     ]
    }
   ],
   "source": [
    "#checking number of labels matched between acutal and Kmeans predicted labels\n",
    "matched = 0\n",
    "unmatched = 0\n",
    "for index, row in data.iterrows():\n",
    "   if int(row['Label1']) == int(row['kmeans']):\n",
    "      matched = matched + 1\n",
    "   else:\n",
    "      unmatched = unmatched + 1\n",
    "   \n",
    "print('matched labels:', matched, 'unmatched labels:', unmatched )    "
   ]
  },
  {
   "cell_type": "code",
   "execution_count": 126,
   "metadata": {},
   "outputs": [
    {
     "name": "stdout",
     "output_type": "stream",
     "text": [
      "matched labels: 919 unmatched labels: 138\n"
     ]
    }
   ],
   "source": [
    "#checking number of labels matched between acutal and gmm predicted labels\n",
    "matched = 0\n",
    "unmatched = 0\n",
    "for index, row in data.iterrows():\n",
    "   if int(row['Label1']) == int(row['gmm']):\n",
    "      matched = matched + 1\n",
    "   else:\n",
    "      unmatched = unmatched + 1\n",
    "   \n",
    "print('matched labels:', matched , 'unmatched labels:', unmatched)    "
   ]
  },
  {
   "cell_type": "code",
   "execution_count": 123,
   "metadata": {},
   "outputs": [],
   "source": [
    "data.to_csv('yelp_model_data.csv')"
   ]
  },
  {
   "cell_type": "code",
   "execution_count": null,
   "metadata": {},
   "outputs": [],
   "source": [
    "from sklearn.metrics import roc_curve, auc\n",
    "false_positive_rate, true_positive_rate, thresholds = roc_curve(y_test, y_prob)\n",
    "roc_auc = auc(false_positive_rate, true_positive_rate)\n",
    "roc_auc"
   ]
  },
  {
   "cell_type": "code",
   "execution_count": 13,
   "metadata": {},
   "outputs": [
    {
     "data": {
      "text/plain": [
       "<matplotlib.axes._subplots.AxesSubplot at 0x1eda4d415f8>"
      ]
     },
     "execution_count": 13,
     "metadata": {},
     "output_type": "execute_result"
    },
    {
     "data": {
      "image/png": "[encoded data removed]",
      "text/plain": [
       "<Figure size 360x360 with 1 Axes>"
      ]
     },
     "metadata": {},
     "output_type": "display_data"
    }
   ],
   "source": [
    "df.boxplot(column=['deviation'], by='kmeans', figsize = (5,5))"
   ]
  }
 ],
 "metadata": {
  "kernelspec": {
   "display_name": "Python 3",
   "language": "python",
   "name": "python3"
  },
  "language_info": {
   "codemirror_mode": {
    "name": "ipython",
    "version": 3
   },
   "file_extension": ".py",
   "mimetype": "text/x-python",
   "name": "python",
   "nbconvert_exporter": "python",
   "pygments_lexer": "ipython3",
   "version": "3.6.5"
  }
 },
 "nbformat": 4,
 "nbformat_minor": 2
}
